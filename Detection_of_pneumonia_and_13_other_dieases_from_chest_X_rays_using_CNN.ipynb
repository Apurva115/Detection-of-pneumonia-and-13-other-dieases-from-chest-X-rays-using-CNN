{
  "nbformat": 4,
  "nbformat_minor": 0,
  "metadata": {
    "colab": {
      "name": "Detection of pneumonia and 13 other dieases from chest X-rays using CNN.ipynb",
      "provenance": [],
      "collapsed_sections": []
    },
    "kernelspec": {
      "name": "python3",
      "display_name": "Python 3"
    },
    "language_info": {
      "name": "python"
    }
  },
  "cells": [
    {
      "cell_type": "code",
      "metadata": {
        "id": "Pvr-Uku3UAqm",
        "colab": {
          "base_uri": "https://localhost:8080/"
        },
        "outputId": "3f78ba27-61b6-438d-a6ad-79a8c27e1838"
      },
      "source": [
        "from google.colab import drive\n",
        "drive.mount('/content/drive')"
      ],
      "execution_count": null,
      "outputs": [
        {
          "output_type": "stream",
          "name": "stdout",
          "text": [
            "Drive already mounted at /content/drive; to attempt to forcibly remount, call drive.mount(\"/content/drive\", force_remount=True).\n"
          ]
        }
      ]
    },
    {
      "cell_type": "code",
      "metadata": {
        "id": "FZ7u6WG4UIMi",
        "colab": {
          "base_uri": "https://localhost:8080/"
        },
        "outputId": "9139865a-03b2-46c3-fff0-31862cc0d3fe"
      },
      "source": [
        "import numpy as np # linear algebra\n",
        "import pandas as pd # data processing, CSV file I/O (e.g. pd.read_csv)\n",
        "import matplotlib.pyplot as plt # basic plotting\n",
        "import seaborn as sns # additional plotting functionality\n",
        "import matplotlib.pyplot as plt\n",
        "import matplotlib.image as mpimg\n",
        "\n",
        "# plt.style.use('dark_background')\n",
        "import shutil\n",
        "from keras.models import Sequential\n",
        "from keras.models import *\n",
        "from keras.preprocessing.image import ImageDataGenerator\n",
        "from keras.preprocessing import image\n",
        "from keras.layers import BatchNormalization\n",
        "from keras.layers import *\n",
        "from keras.layers import Conv2D, MaxPooling2D, Dense, Flatten\n",
        "from keras.datasets import cifar10\n",
        "import os\n",
        "from tensorflow.keras.applications.densenet import DenseNet121\n",
        "from keras import losses \n",
        "from keras import optimizers \n",
        "from keras import metrics \n",
        "\n",
        "\n",
        "print(os.listdir(\"/content/drive/MyDrive/TRAIN_TEST_VAILD\"))"
      ],
      "execution_count": null,
      "outputs": [
        {
          "output_type": "stream",
          "name": "stdout",
          "text": [
            "['VALID', 'TEST', 'TRAIN']\n"
          ]
        }
      ]
    },
    {
      "cell_type": "code",
      "metadata": {
        "id": "6Lhb1mf_UIKZ",
        "colab": {
          "base_uri": "https://localhost:8080/",
          "height": 243
        },
        "outputId": "135d3f93-3e79-4ce8-9256-6f1f806593d3"
      },
      "source": [
        "#xray_data = pd.read_csv('../content/drive/MyDrive/Datasets/img_csv_dataset/total1.csv')\n",
        "#num_obs = len(xray_data)\n",
        "#print('Number of observations:',num_obs)\n",
        "#xray_data.head(5) "
      ],
      "execution_count": null,
      "outputs": [
        {
          "output_type": "stream",
          "name": "stdout",
          "text": [
            "Number of observations: 96\n"
          ]
        },
        {
          "output_type": "execute_result",
          "data": {
            "text/html": [
              "<div>\n",
              "<style scoped>\n",
              "    .dataframe tbody tr th:only-of-type {\n",
              "        vertical-align: middle;\n",
              "    }\n",
              "\n",
              "    .dataframe tbody tr th {\n",
              "        vertical-align: top;\n",
              "    }\n",
              "\n",
              "    .dataframe thead th {\n",
              "        text-align: right;\n",
              "    }\n",
              "</style>\n",
              "<table border=\"1\" class=\"dataframe\">\n",
              "  <thead>\n",
              "    <tr style=\"text-align: right;\">\n",
              "      <th></th>\n",
              "      <th>Image_Index</th>\n",
              "      <th>Finding_Labels</th>\n",
              "      <th>Follow_up</th>\n",
              "      <th>Patient_ID</th>\n",
              "      <th>Patient_Age</th>\n",
              "      <th>Patient_Gender</th>\n",
              "      <th>View_Position</th>\n",
              "      <th>OriginalImage[Width</th>\n",
              "      <th>Height]</th>\n",
              "      <th>OriginalImagePixelSpacing[x</th>\n",
              "      <th>y]</th>\n",
              "    </tr>\n",
              "  </thead>\n",
              "  <tbody>\n",
              "    <tr>\n",
              "      <th>0</th>\n",
              "      <td>00000001_000.png</td>\n",
              "      <td>Cardiomegaly</td>\n",
              "      <td>0</td>\n",
              "      <td>1</td>\n",
              "      <td>58</td>\n",
              "      <td>M</td>\n",
              "      <td>PA</td>\n",
              "      <td>2682</td>\n",
              "      <td>2749</td>\n",
              "      <td>0.143</td>\n",
              "      <td>0.143</td>\n",
              "    </tr>\n",
              "    <tr>\n",
              "      <th>1</th>\n",
              "      <td>00000001_001.png</td>\n",
              "      <td>Cardiomegaly|Emphysema</td>\n",
              "      <td>1</td>\n",
              "      <td>1</td>\n",
              "      <td>58</td>\n",
              "      <td>M</td>\n",
              "      <td>PA</td>\n",
              "      <td>2894</td>\n",
              "      <td>2729</td>\n",
              "      <td>0.143</td>\n",
              "      <td>0.143</td>\n",
              "    </tr>\n",
              "    <tr>\n",
              "      <th>2</th>\n",
              "      <td>00000001_002.png</td>\n",
              "      <td>Cardiomegaly|Effusion</td>\n",
              "      <td>2</td>\n",
              "      <td>1</td>\n",
              "      <td>58</td>\n",
              "      <td>M</td>\n",
              "      <td>PA</td>\n",
              "      <td>2500</td>\n",
              "      <td>2048</td>\n",
              "      <td>0.168</td>\n",
              "      <td>0.168</td>\n",
              "    </tr>\n",
              "    <tr>\n",
              "      <th>3</th>\n",
              "      <td>00000002_000.png</td>\n",
              "      <td>No Finding</td>\n",
              "      <td>0</td>\n",
              "      <td>2</td>\n",
              "      <td>81</td>\n",
              "      <td>M</td>\n",
              "      <td>PA</td>\n",
              "      <td>2500</td>\n",
              "      <td>2048</td>\n",
              "      <td>0.171</td>\n",
              "      <td>0.171</td>\n",
              "    </tr>\n",
              "    <tr>\n",
              "      <th>4</th>\n",
              "      <td>00000003_000.png</td>\n",
              "      <td>Hernia</td>\n",
              "      <td>0</td>\n",
              "      <td>3</td>\n",
              "      <td>81</td>\n",
              "      <td>F</td>\n",
              "      <td>PA</td>\n",
              "      <td>2582</td>\n",
              "      <td>2991</td>\n",
              "      <td>0.143</td>\n",
              "      <td>0.143</td>\n",
              "    </tr>\n",
              "  </tbody>\n",
              "</table>\n",
              "</div>"
            ],
            "text/plain": [
              "        Image_Index          Finding_Labels  ...  OriginalImagePixelSpacing[x     y]\n",
              "0  00000001_000.png            Cardiomegaly  ...                        0.143  0.143\n",
              "1  00000001_001.png  Cardiomegaly|Emphysema  ...                        0.143  0.143\n",
              "2  00000001_002.png   Cardiomegaly|Effusion  ...                        0.168  0.168\n",
              "3  00000002_000.png              No Finding  ...                        0.171  0.171\n",
              "4  00000003_000.png                  Hernia  ...                        0.143  0.143\n",
              "\n",
              "[5 rows x 11 columns]"
            ]
          },
          "metadata": {},
          "execution_count": 77
        }
      ]
    },
    {
      "cell_type": "code",
      "metadata": {
        "id": "p2zAhm8LUIHk"
      },
      "source": [
        "train_path = '/content/drive/MyDrive/TRIAN_TEST_VAILD/TRAIN'"
      ],
      "execution_count": null,
      "outputs": []
    },
    {
      "cell_type": "code",
      "metadata": {
        "id": "_zS-1r4pUIFG"
      },
      "source": [
        "val_path = '/content/drive/MyDrive/TRIAN_TEST_VAILD/VALIDATION'"
      ],
      "execution_count": null,
      "outputs": []
    },
    {
      "cell_type": "code",
      "metadata": {
        "id": "ORCfO5aNdugf"
      },
      "source": [
        "import random\n",
        "\n",
        "# file_path = '/content/drive/MyDrive/Datasets/NIH_Sample_dataset/images'\n",
        "# target_path = '/content/drive/MyDrive/Datasets/TRIAN_TEST_VAILD/TRAIN'\n",
        "# image_names = os.listdir(file_path)\n",
        "# random.shuffle(image_names)\n",
        "# for i in range(100):\n",
        "#     image_name = image_names[i]\n",
        "#     image_path = os.path.join(file_path,image_name)\n",
        "#     tcp = os.path.join(target_path,image_name)\n",
        "#     shutil.copy2(image_path,tcp)"
      ],
      "execution_count": null,
      "outputs": []
    },
    {
      "cell_type": "code",
      "metadata": {
        "id": "EFhP5giIc0YP"
      },
      "source": [
        "# cnt = 0\n",
        "# target_dir = '/content/drive/MyDrive/Datasets/TRIAN_TEST_VAILD/Train'\n",
        "# ip1 = '/content/drive/MyDrive/Datasets/IMG_FOLDERS/Emphysema'\n",
        "# image_names = os.listdir(ip1)\n",
        "\n",
        "# # image_names = os.listdir(image_names)\n",
        "# for filename in image_names:\n",
        "#   # if row['Finding_Labels']== 'Emphysema' and row['View_Position']== 'PA':\n",
        "#     filename= row['Image_Index']\n",
        "#     ip = os.path.join(ip1,filename)\n",
        "#     tcp = os.path.join(target_dir,filename)\n",
        "#     shutil.copy2(ip,tcp)\n",
        "#     cnt += 1\n",
        "\n",
        "# print(cnt)\n",
        "\n"
      ],
      "execution_count": null,
      "outputs": []
    },
    {
      "cell_type": "markdown",
      "metadata": {
        "id": "BuNZkhXCXTKj"
      },
      "source": [
        "CNN Based model in keras"
      ]
    },
    {
      "cell_type": "code",
      "metadata": {
        "id": "UipRO_qpUICu",
        "colab": {
          "base_uri": "https://localhost:8080/"
        },
        "outputId": "6fb0ad1e-1a3b-4e5b-9b6a-5249d8eb81fa"
      },
      "source": [
        "model = Sequential()\n",
        "model.add(DenseNet121(weights='imagenet', include_top=False, pooling= \"avg\"))\n",
        "model.add(Flatten())\n",
        "model.add(Dense(14, activation='sigmoid'))\n",
        "model.add(Flatten())\n",
        "model.compile(loss='binary_crossentropy', metrics=['accuracy'], optimizer='adam')\n",
        "model.summary()"
      ],
      "execution_count": null,
      "outputs": [
        {
          "output_type": "stream",
          "name": "stdout",
          "text": [
            "Downloading data from https://storage.googleapis.com/tensorflow/keras-applications/densenet/densenet121_weights_tf_dim_ordering_tf_kernels_notop.h5\n",
            "29089792/29084464 [==============================] - 0s 0us/step\n",
            "29097984/29084464 [==============================] - 0s 0us/step\n",
            "Model: \"sequential\"\n",
            "_________________________________________________________________\n",
            " Layer (type)                Output Shape              Param #   \n",
            "=================================================================\n",
            " densenet121 (Functional)    (None, 1024)              7037504   \n",
            "                                                                 \n",
            " flatten (Flatten)           (None, 1024)              0         \n",
            "                                                                 \n",
            " dense (Dense)               (None, 14)                14350     \n",
            "                                                                 \n",
            " flatten_1 (Flatten)         (None, 14)                0         \n",
            "                                                                 \n",
            "=================================================================\n",
            "Total params: 7,051,854\n",
            "Trainable params: 6,968,206\n",
            "Non-trainable params: 83,648\n",
            "_________________________________________________________________\n"
          ]
        }
      ]
    },
    {
      "cell_type": "markdown",
      "metadata": {
        "id": "7UXb4Vm3bROx"
      },
      "source": [
        "Training phase"
      ]
    },
    {
      "cell_type": "code",
      "metadata": {
        "id": "jXIpswvLUH_2"
      },
      "source": [
        "train_data_gen = image.ImageDataGenerator(\n",
        "    rescale = 1./255,\n",
        "    shear_range = 0.2,\n",
        "    zoom_range = 0.2,\n",
        "    horizontal_flip = True\n",
        ")"
      ],
      "execution_count": null,
      "outputs": []
    },
    {
      "cell_type": "code",
      "metadata": {
        "id": "pnit2JccbTyH"
      },
      "source": [
        "test_data_set = image.ImageDataGenerator(\n",
        "    rescale = 1./255\n",
        ")"
      ],
      "execution_count": null,
      "outputs": []
    },
    {
      "cell_type": "code",
      "metadata": {
        "id": "3EC-ef5q-Wq-"
      },
      "source": [
        "valid_data_set = image.ImageDataGenerator(\n",
        "    rescale = 1./255\n",
        ")"
      ],
      "execution_count": null,
      "outputs": []
    },
    {
      "cell_type": "code",
      "metadata": {
        "id": "j4xkXyxVcMDB",
        "colab": {
          "base_uri": "https://localhost:8080/"
        },
        "outputId": "d844117c-1003-4a2b-8a9e-978d9ed257a6"
      },
      "source": [
        "train_generator = train_data_gen.flow_from_directory(\n",
        "    '/content/drive/MyDrive/TRAIN_TEST_VAILD/TRAIN',\n",
        "    target_size = (224,224),\n",
        "    batch_size = 16,\n",
        "    class_mode = \"categorical\"\n",
        ")"
      ],
      "execution_count": null,
      "outputs": [
        {
          "output_type": "stream",
          "name": "stdout",
          "text": [
            "Found 2533 images belonging to 14 classes.\n"
          ]
        }
      ]
    },
    {
      "cell_type": "code",
      "metadata": {
        "id": "bhdcad769zCw",
        "colab": {
          "base_uri": "https://localhost:8080/"
        },
        "outputId": "79fc651f-eaeb-48b1-84a1-6e13fdd0a3fc"
      },
      "source": [
        "valid_generator = valid_data_set.flow_from_directory(\n",
        "    '/content/drive/MyDrive/TRAIN_TEST_VAILD/VALID',\n",
        "    target_size = (224,224),\n",
        "    batch_size = 16,\n",
        "    class_mode = \"categorical\"\n",
        ")"
      ],
      "execution_count": null,
      "outputs": [
        {
          "output_type": "stream",
          "name": "stdout",
          "text": [
            "Found 210 images belonging to 14 classes.\n"
          ]
        }
      ]
    },
    {
      "cell_type": "code",
      "metadata": {
        "id": "2i8CzrgwcMAf",
        "colab": {
          "base_uri": "https://localhost:8080/"
        },
        "outputId": "646a8bf7-d372-4d82-ffb1-fb9fe152c075"
      },
      "source": [
        "train_generator.class_indices"
      ],
      "execution_count": null,
      "outputs": [
        {
          "output_type": "execute_result",
          "data": {
            "text/plain": [
              "{'Atelectasis': 0,\n",
              " 'Cardiomegaly': 1,\n",
              " 'Consolidation': 2,\n",
              " 'Edema': 3,\n",
              " 'Effusion': 4,\n",
              " 'Emphysema': 5,\n",
              " 'Fibrosis': 6,\n",
              " 'Hernia': 7,\n",
              " 'Infiltration': 8,\n",
              " 'Mass': 9,\n",
              " 'Nodule': 10,\n",
              " 'Pleural_Thickening': 11,\n",
              " 'Pneumonia': 12,\n",
              " 'Pneumothorax': 13}"
            ]
          },
          "metadata": {},
          "execution_count": 26
        }
      ]
    },
    {
      "cell_type": "code",
      "metadata": {
        "id": "RjqVP9LKwmZf",
        "colab": {
          "base_uri": "https://localhost:8080/"
        },
        "outputId": "ed6dbd44-b5c0-4b54-8d4d-2a17201ba55f"
      },
      "source": [
        "test_generator = test_data_set.flow_from_directory(\n",
        "    '/content/drive/MyDrive/TRAIN_TEST_VAILD/TEST',\n",
        "    target_size = (224,224),\n",
        "    batch_size = 16,\n",
        "    class_mode = \"categorical\"\n",
        ")\n",
        "print(valid_generator)"
      ],
      "execution_count": null,
      "outputs": [
        {
          "output_type": "stream",
          "name": "stdout",
          "text": [
            "Found 162 images belonging to 14 classes.\n",
            "<keras.preprocessing.image.DirectoryIterator object at 0x7fadfa231dd0>\n"
          ]
        }
      ]
    },
    {
      "cell_type": "code",
      "metadata": {
        "id": "54_OYEHhcL9x",
        "colab": {
          "base_uri": "https://localhost:8080/",
          "height": 1000
        },
        "outputId": "5a7dbbe2-87dc-42c0-a9f0-d2d7c77f58cb"
      },
      "source": [
        "hist = model.fit_generator(\n",
        "    train_generator,\n",
        "    steps_per_epoch = 8,\n",
        "    epochs = 150,\n",
        "    validation_data = valid_generator,\n",
        "    validation_steps = 2\n",
        ")"
      ],
      "execution_count": null,
      "outputs": [
        {
          "metadata": {
            "tags": null
          },
          "name": "stderr",
          "output_type": "stream",
          "text": [
            "/usr/local/lib/python3.7/dist-packages/ipykernel_launcher.py:6: UserWarning: `Model.fit_generator` is deprecated and will be removed in a future version. Please use `Model.fit`, which supports generators.\n",
            "  \n"
          ]
        },
        {
          "output_type": "stream",
          "name": "stdout",
          "text": [
            "Epoch 1/150\n",
            "8/8 [==============================] - 119s 14s/step - loss: 0.4614 - accuracy: 0.0703 - val_loss: 1.2129 - val_accuracy: 0.0000e+00\n",
            "Epoch 2/150\n",
            "8/8 [==============================] - 104s 13s/step - loss: 0.2829 - accuracy: 0.0859 - val_loss: 2.0981 - val_accuracy: 0.0625\n",
            "Epoch 3/150\n",
            "8/8 [==============================] - 102s 12s/step - loss: 0.2885 - accuracy: 0.1016 - val_loss: 2.0976 - val_accuracy: 0.1562\n",
            "Epoch 4/150\n",
            "8/8 [==============================] - 101s 12s/step - loss: 0.2725 - accuracy: 0.1094 - val_loss: 2.6035 - val_accuracy: 0.0000e+00\n",
            "Epoch 5/150\n",
            "8/8 [==============================] - 99s 12s/step - loss: 0.2607 - accuracy: 0.1328 - val_loss: 3.6509 - val_accuracy: 0.0625\n",
            "Epoch 6/150\n",
            "8/8 [==============================] - 99s 12s/step - loss: 0.2623 - accuracy: 0.0938 - val_loss: 3.2712 - val_accuracy: 0.0938\n",
            "Epoch 7/150\n",
            "8/8 [==============================] - 100s 12s/step - loss: 0.2571 - accuracy: 0.1484 - val_loss: 4.5912 - val_accuracy: 0.1250\n",
            "Epoch 8/150\n",
            "8/8 [==============================] - 98s 12s/step - loss: 0.2534 - accuracy: 0.1484 - val_loss: 4.5808 - val_accuracy: 0.1875\n",
            "Epoch 9/150\n",
            "8/8 [==============================] - 98s 12s/step - loss: 0.2574 - accuracy: 0.1328 - val_loss: 2.8165 - val_accuracy: 0.0312\n",
            "Epoch 10/150\n",
            "8/8 [==============================] - 96s 12s/step - loss: 0.2560 - accuracy: 0.1562 - val_loss: 0.8766 - val_accuracy: 0.0312\n",
            "Epoch 11/150\n",
            "8/8 [==============================] - 96s 12s/step - loss: 0.2549 - accuracy: 0.0938 - val_loss: 0.4344 - val_accuracy: 0.1250\n",
            "Epoch 12/150\n",
            "8/8 [==============================] - 97s 12s/step - loss: 0.2598 - accuracy: 0.1016 - val_loss: 0.3349 - val_accuracy: 0.0625\n",
            "Epoch 13/150\n",
            "8/8 [==============================] - 95s 12s/step - loss: 0.2576 - accuracy: 0.1172 - val_loss: 0.3752 - val_accuracy: 0.0938\n",
            "Epoch 14/150\n",
            "8/8 [==============================] - 96s 12s/step - loss: 0.2536 - accuracy: 0.1172 - val_loss: 0.3239 - val_accuracy: 0.0625\n",
            "Epoch 15/150\n",
            "8/8 [==============================] - 96s 12s/step - loss: 0.2452 - accuracy: 0.1172 - val_loss: 0.3585 - val_accuracy: 0.0938\n",
            "Epoch 16/150\n",
            "8/8 [==============================] - 95s 12s/step - loss: 0.2513 - accuracy: 0.1094 - val_loss: 0.8408 - val_accuracy: 0.0625\n",
            "Epoch 17/150\n",
            "8/8 [==============================] - 98s 12s/step - loss: 0.2593 - accuracy: 0.1016 - val_loss: 0.7063 - val_accuracy: 0.0938\n",
            "Epoch 18/150\n",
            "8/8 [==============================] - 97s 12s/step - loss: 0.2506 - accuracy: 0.1328 - val_loss: 0.3971 - val_accuracy: 0.0312\n",
            "Epoch 19/150\n",
            "8/8 [==============================] - 97s 12s/step - loss: 0.2544 - accuracy: 0.0859 - val_loss: 0.3397 - val_accuracy: 0.0625\n",
            "Epoch 20/150\n",
            "8/8 [==============================] - 98s 12s/step - loss: 0.2499 - accuracy: 0.1641 - val_loss: 0.3401 - val_accuracy: 0.0938\n",
            "Epoch 21/150\n",
            "8/8 [==============================] - 97s 12s/step - loss: 0.2598 - accuracy: 0.1406 - val_loss: 0.2834 - val_accuracy: 0.0625\n",
            "Epoch 22/150\n",
            "8/8 [==============================] - 96s 12s/step - loss: 0.2619 - accuracy: 0.1016 - val_loss: 0.4933 - val_accuracy: 0.1250\n",
            "Epoch 23/150\n",
            "8/8 [==============================] - 97s 12s/step - loss: 0.2469 - accuracy: 0.1484 - val_loss: 0.4584 - val_accuracy: 0.0625\n",
            "Epoch 24/150\n",
            "8/8 [==============================] - 96s 12s/step - loss: 0.2523 - accuracy: 0.1172 - val_loss: 0.6173 - val_accuracy: 0.0312\n",
            "Epoch 25/150\n",
            "8/8 [==============================] - 96s 12s/step - loss: 0.2528 - accuracy: 0.1172 - val_loss: 0.4001 - val_accuracy: 0.0312\n",
            "Epoch 26/150\n",
            "8/8 [==============================] - 96s 12s/step - loss: 0.2473 - accuracy: 0.1250 - val_loss: 0.3003 - val_accuracy: 0.0625\n",
            "Epoch 27/150\n",
            "8/8 [==============================] - 95s 12s/step - loss: 0.2590 - accuracy: 0.0938 - val_loss: 0.2607 - val_accuracy: 0.0625\n",
            "Epoch 28/150\n",
            "8/8 [==============================] - 95s 12s/step - loss: 0.2519 - accuracy: 0.1562 - val_loss: 0.3172 - val_accuracy: 0.0312\n",
            "Epoch 29/150\n",
            "8/8 [==============================] - 94s 12s/step - loss: 0.2421 - accuracy: 0.2031 - val_loss: 0.3109 - val_accuracy: 0.0312\n",
            "Epoch 30/150\n",
            "8/8 [==============================] - 96s 12s/step - loss: 0.2444 - accuracy: 0.2109 - val_loss: 0.4436 - val_accuracy: 0.0625\n",
            "Epoch 31/150\n",
            "8/8 [==============================] - 95s 12s/step - loss: 0.2562 - accuracy: 0.1797 - val_loss: 0.2891 - val_accuracy: 0.0625\n",
            "Epoch 32/150\n",
            "8/8 [==============================] - 96s 12s/step - loss: 0.2490 - accuracy: 0.1172 - val_loss: 0.2565 - val_accuracy: 0.1875\n",
            "Epoch 33/150\n",
            "8/8 [==============================] - 96s 12s/step - loss: 0.2563 - accuracy: 0.1484 - val_loss: 0.2796 - val_accuracy: 0.1250\n",
            "Epoch 34/150\n",
            "8/8 [==============================] - 88s 11s/step - loss: 0.2535 - accuracy: 0.1282 - val_loss: 0.3177 - val_accuracy: 0.0938\n",
            "Epoch 35/150\n",
            "8/8 [==============================] - 95s 12s/step - loss: 0.2510 - accuracy: 0.1719 - val_loss: 0.3578 - val_accuracy: 0.0625\n",
            "Epoch 36/150\n",
            "8/8 [==============================] - 96s 12s/step - loss: 0.2435 - accuracy: 0.1953 - val_loss: 0.2941 - val_accuracy: 0.1250\n",
            "Epoch 37/150\n",
            "8/8 [==============================] - 95s 12s/step - loss: 0.2550 - accuracy: 0.1250 - val_loss: 0.3006 - val_accuracy: 0.0625\n",
            "Epoch 38/150\n",
            "8/8 [==============================] - 96s 12s/step - loss: 0.2542 - accuracy: 0.1562 - val_loss: 0.2578 - val_accuracy: 0.1250\n",
            "Epoch 39/150\n",
            "8/8 [==============================] - 96s 12s/step - loss: 0.2464 - accuracy: 0.0938 - val_loss: 0.2850 - val_accuracy: 0.0625\n",
            "Epoch 40/150\n",
            "8/8 [==============================] - 95s 12s/step - loss: 0.2502 - accuracy: 0.1328 - val_loss: 0.2661 - val_accuracy: 0.1562\n",
            "Epoch 41/150\n",
            "8/8 [==============================] - 96s 12s/step - loss: 0.2498 - accuracy: 0.1406 - val_loss: 0.2867 - val_accuracy: 0.1250\n",
            "Epoch 42/150\n",
            "8/8 [==============================] - 96s 12s/step - loss: 0.2465 - accuracy: 0.1484 - val_loss: 0.2775 - val_accuracy: 0.0312\n",
            "Epoch 43/150\n",
            "8/8 [==============================] - 95s 12s/step - loss: 0.2471 - accuracy: 0.1484 - val_loss: 0.2993 - val_accuracy: 0.0312\n",
            "Epoch 44/150\n",
            "8/8 [==============================] - 87s 11s/step - loss: 0.2487 - accuracy: 0.1197 - val_loss: 0.2698 - val_accuracy: 0.0312\n",
            "Epoch 45/150\n",
            "8/8 [==============================] - 95s 12s/step - loss: 0.2502 - accuracy: 0.1797 - val_loss: 0.2545 - val_accuracy: 0.1875\n",
            "Epoch 46/150\n",
            "8/8 [==============================] - 95s 12s/step - loss: 0.2484 - accuracy: 0.1484 - val_loss: 0.2528 - val_accuracy: 0.0312\n",
            "Epoch 47/150\n",
            "8/8 [==============================] - 95s 12s/step - loss: 0.2459 - accuracy: 0.1719 - val_loss: 0.2500 - val_accuracy: 0.0938\n",
            "Epoch 48/150\n",
            "8/8 [==============================] - 95s 12s/step - loss: 0.2489 - accuracy: 0.1484 - val_loss: 0.2567 - val_accuracy: 0.0938\n",
            "Epoch 49/150\n",
            "8/8 [==============================] - 95s 12s/step - loss: 0.2456 - accuracy: 0.1484 - val_loss: 0.2719 - val_accuracy: 0.0938\n",
            "Epoch 50/150\n",
            "8/8 [==============================] - 95s 12s/step - loss: 0.2533 - accuracy: 0.1875 - val_loss: 0.2669 - val_accuracy: 0.0312\n",
            "Epoch 51/150\n",
            "8/8 [==============================] - 94s 12s/step - loss: 0.2526 - accuracy: 0.1172 - val_loss: 0.2646 - val_accuracy: 0.1250\n",
            "Epoch 52/150\n",
            "8/8 [==============================] - 95s 12s/step - loss: 0.2556 - accuracy: 0.1250 - val_loss: 0.2789 - val_accuracy: 0.0625\n",
            "Epoch 53/150\n",
            "8/8 [==============================] - 94s 12s/step - loss: 0.2485 - accuracy: 0.1328 - val_loss: 0.2807 - val_accuracy: 0.0625\n",
            "Epoch 54/150\n",
            "8/8 [==============================] - 94s 12s/step - loss: 0.2428 - accuracy: 0.1484 - val_loss: 0.2817 - val_accuracy: 0.1250\n",
            "Epoch 55/150\n",
            "8/8 [==============================] - 93s 12s/step - loss: 0.2379 - accuracy: 0.1953 - val_loss: 0.3084 - val_accuracy: 0.0625\n",
            "Epoch 56/150\n",
            "8/8 [==============================] - 94s 12s/step - loss: 0.2407 - accuracy: 0.2188 - val_loss: 0.2756 - val_accuracy: 0.1250\n",
            "Epoch 57/150\n",
            "8/8 [==============================] - 95s 12s/step - loss: 0.2474 - accuracy: 0.1094 - val_loss: 0.2692 - val_accuracy: 0.0625\n",
            "Epoch 58/150\n",
            "8/8 [==============================] - 95s 12s/step - loss: 0.2537 - accuracy: 0.1328 - val_loss: 0.3472 - val_accuracy: 0.1250\n",
            "Epoch 59/150\n",
            "8/8 [==============================] - 94s 12s/step - loss: 0.2466 - accuracy: 0.1484 - val_loss: 0.2961 - val_accuracy: 0.0625\n",
            "Epoch 60/150\n",
            "8/8 [==============================] - 94s 12s/step - loss: 0.2457 - accuracy: 0.1172 - val_loss: 0.2957 - val_accuracy: 0.0625\n",
            "Epoch 61/150\n",
            "8/8 [==============================] - 94s 12s/step - loss: 0.2405 - accuracy: 0.1484 - val_loss: 0.2765 - val_accuracy: 0.0625\n",
            "Epoch 62/150\n",
            "8/8 [==============================] - 95s 12s/step - loss: 0.2514 - accuracy: 0.1875 - val_loss: 0.2639 - val_accuracy: 0.1250\n",
            "Epoch 63/150\n",
            "8/8 [==============================] - 94s 12s/step - loss: 0.2462 - accuracy: 0.2188 - val_loss: 0.2607 - val_accuracy: 0.1250\n",
            "Epoch 64/150\n",
            "8/8 [==============================] - 94s 12s/step - loss: 0.2459 - accuracy: 0.1797 - val_loss: 0.2902 - val_accuracy: 0.0625\n",
            "Epoch 65/150\n",
            "8/8 [==============================] - 94s 12s/step - loss: 0.2493 - accuracy: 0.1875 - val_loss: 0.3426 - val_accuracy: 0.0625\n",
            "Epoch 66/150\n",
            "8/8 [==============================] - 95s 12s/step - loss: 0.2467 - accuracy: 0.1719 - val_loss: 0.2779 - val_accuracy: 0.1250\n",
            "Epoch 67/150\n",
            "8/8 [==============================] - 94s 12s/step - loss: 0.2442 - accuracy: 0.1797 - val_loss: 0.3058 - val_accuracy: 0.1250\n",
            "Epoch 68/150\n",
            "8/8 [==============================] - 87s 12s/step - loss: 0.2377 - accuracy: 0.2222 - val_loss: 0.2614 - val_accuracy: 0.1250\n",
            "Epoch 69/150\n",
            "8/8 [==============================] - 95s 12s/step - loss: 0.2464 - accuracy: 0.1875 - val_loss: 0.2541 - val_accuracy: 0.1250\n",
            "Epoch 70/150\n",
            "8/8 [==============================] - 87s 11s/step - loss: 0.2337 - accuracy: 0.1966 - val_loss: 0.2683 - val_accuracy: 0.1562\n",
            "Epoch 71/150\n",
            "8/8 [==============================] - 95s 12s/step - loss: 0.2476 - accuracy: 0.1562 - val_loss: 0.3805 - val_accuracy: 0.0312\n",
            "Epoch 72/150\n",
            "8/8 [==============================] - 95s 12s/step - loss: 0.2473 - accuracy: 0.1562 - val_loss: 0.3879 - val_accuracy: 0.0312\n",
            "Epoch 73/150\n",
            "8/8 [==============================] - 95s 12s/step - loss: 0.2391 - accuracy: 0.1875 - val_loss: 0.2954 - val_accuracy: 0.1875\n",
            "Epoch 74/150\n",
            "8/8 [==============================] - 95s 12s/step - loss: 0.2334 - accuracy: 0.1953 - val_loss: 0.3097 - val_accuracy: 0.0000e+00\n",
            "Epoch 75/150\n",
            "8/8 [==============================] - 95s 12s/step - loss: 0.2417 - accuracy: 0.1875 - val_loss: 0.4162 - val_accuracy: 0.1250\n",
            "Epoch 76/150\n",
            "8/8 [==============================] - 95s 12s/step - loss: 0.2444 - accuracy: 0.1484 - val_loss: 0.2964 - val_accuracy: 0.0625\n",
            "Epoch 77/150\n",
            "8/8 [==============================] - 96s 12s/step - loss: 0.2411 - accuracy: 0.1719 - val_loss: 0.2715 - val_accuracy: 0.0938\n",
            "Epoch 78/150\n",
            "8/8 [==============================] - 93s 12s/step - loss: 0.2472 - accuracy: 0.1641 - val_loss: 0.2633 - val_accuracy: 0.0625\n",
            "Epoch 79/150\n",
            "8/8 [==============================] - 94s 12s/step - loss: 0.2414 - accuracy: 0.1875 - val_loss: 0.2570 - val_accuracy: 0.0625\n",
            "Epoch 80/150\n",
            "8/8 [==============================] - 94s 12s/step - loss: 0.2454 - accuracy: 0.1875 - val_loss: 0.2427 - val_accuracy: 0.2812\n",
            "Epoch 81/150\n",
            "8/8 [==============================] - 94s 12s/step - loss: 0.2446 - accuracy: 0.2031 - val_loss: 0.2719 - val_accuracy: 0.0000e+00\n",
            "Epoch 82/150\n",
            "8/8 [==============================] - 94s 12s/step - loss: 0.2416 - accuracy: 0.1797 - val_loss: 0.2817 - val_accuracy: 0.0625\n",
            "Epoch 83/150\n",
            "8/8 [==============================] - 94s 12s/step - loss: 0.2459 - accuracy: 0.2109 - val_loss: 0.2701 - val_accuracy: 0.1562\n",
            "Epoch 84/150\n",
            "8/8 [==============================] - 94s 12s/step - loss: 0.2476 - accuracy: 0.1250 - val_loss: 0.2736 - val_accuracy: 0.0312\n",
            "Epoch 85/150\n",
            "8/8 [==============================] - 94s 12s/step - loss: 0.2431 - accuracy: 0.1328 - val_loss: 0.2639 - val_accuracy: 0.1562\n",
            "Epoch 86/150\n",
            "8/8 [==============================] - 94s 12s/step - loss: 0.2499 - accuracy: 0.1719 - val_loss: 0.2679 - val_accuracy: 0.1250\n",
            "Epoch 87/150\n",
            "8/8 [==============================] - 94s 12s/step - loss: 0.2450 - accuracy: 0.2109 - val_loss: 0.2557 - val_accuracy: 0.0625\n",
            "Epoch 88/150\n",
            "8/8 [==============================] - 94s 12s/step - loss: 0.2435 - accuracy: 0.1875 - val_loss: 0.2558 - val_accuracy: 0.1562\n",
            "Epoch 89/150\n",
            "8/8 [==============================] - 93s 12s/step - loss: 0.2432 - accuracy: 0.1406 - val_loss: 0.2866 - val_accuracy: 0.0938\n",
            "Epoch 90/150\n",
            "8/8 [==============================] - 93s 12s/step - loss: 0.2459 - accuracy: 0.1484 - val_loss: 0.2645 - val_accuracy: 0.1250\n",
            "Epoch 91/150\n",
            "8/8 [==============================] - 94s 12s/step - loss: 0.2344 - accuracy: 0.2266 - val_loss: 0.2542 - val_accuracy: 0.1562\n",
            "Epoch 92/150\n",
            "8/8 [==============================] - 93s 12s/step - loss: 0.2368 - accuracy: 0.2344 - val_loss: 0.2687 - val_accuracy: 0.2188\n",
            "Epoch 93/150\n",
            "8/8 [==============================] - 93s 12s/step - loss: 0.2398 - accuracy: 0.1641 - val_loss: 0.2884 - val_accuracy: 0.1250\n",
            "Epoch 94/150\n",
            "8/8 [==============================] - 95s 12s/step - loss: 0.2374 - accuracy: 0.2422 - val_loss: 0.2518 - val_accuracy: 0.1875\n",
            "Epoch 95/150\n",
            "8/8 [==============================] - 95s 12s/step - loss: 0.2398 - accuracy: 0.1875 - val_loss: 0.2406 - val_accuracy: 0.2188\n",
            "Epoch 96/150\n",
            "8/8 [==============================] - 94s 12s/step - loss: 0.2397 - accuracy: 0.2266 - val_loss: 0.3033 - val_accuracy: 0.0312\n",
            "Epoch 97/150\n",
            "8/8 [==============================] - 95s 12s/step - loss: 0.2359 - accuracy: 0.2500 - val_loss: 0.2954 - val_accuracy: 0.0312\n",
            "Epoch 98/150\n",
            "8/8 [==============================] - 94s 12s/step - loss: 0.2418 - accuracy: 0.2031 - val_loss: 0.3110 - val_accuracy: 0.0625\n",
            "Epoch 99/150\n",
            "8/8 [==============================] - 94s 12s/step - loss: 0.2441 - accuracy: 0.2188 - val_loss: 0.2575 - val_accuracy: 0.0625\n",
            "Epoch 100/150\n",
            "8/8 [==============================] - 94s 12s/step - loss: 0.2313 - accuracy: 0.2578 - val_loss: 0.2551 - val_accuracy: 0.0938\n",
            "Epoch 101/150\n",
            "8/8 [==============================] - 94s 12s/step - loss: 0.2403 - accuracy: 0.2266 - val_loss: 0.2620 - val_accuracy: 0.1875\n",
            "Epoch 102/150\n",
            "8/8 [==============================] - 94s 12s/step - loss: 0.2378 - accuracy: 0.2031 - val_loss: 0.3123 - val_accuracy: 0.0312\n",
            "Epoch 103/150\n",
            "8/8 [==============================] - 94s 12s/step - loss: 0.2389 - accuracy: 0.1797 - val_loss: 0.2828 - val_accuracy: 0.0625\n",
            "Epoch 104/150\n",
            "8/8 [==============================] - 94s 12s/step - loss: 0.2374 - accuracy: 0.2266 - val_loss: 0.2487 - val_accuracy: 0.2188\n",
            "Epoch 105/150\n",
            "8/8 [==============================] - 94s 12s/step - loss: 0.2427 - accuracy: 0.2188 - val_loss: 0.2339 - val_accuracy: 0.1875\n",
            "Epoch 106/150\n",
            "8/8 [==============================] - 95s 12s/step - loss: 0.2390 - accuracy: 0.2422 - val_loss: 0.2392 - val_accuracy: 0.2188\n",
            "Epoch 107/150\n",
            "8/8 [==============================] - 95s 12s/step - loss: 0.2339 - accuracy: 0.2109 - val_loss: 0.2830 - val_accuracy: 0.0625\n",
            "Epoch 108/150\n",
            "8/8 [==============================] - 87s 12s/step - loss: 0.2334 - accuracy: 0.2479 - val_loss: 0.3989 - val_accuracy: 0.0312\n",
            "Epoch 109/150\n",
            "8/8 [==============================] - 95s 12s/step - loss: 0.2350 - accuracy: 0.1953 - val_loss: 0.3745 - val_accuracy: 0.0625\n",
            "Epoch 110/150\n",
            "8/8 [==============================] - 94s 12s/step - loss: 0.2350 - accuracy: 0.2344 - val_loss: 0.3646 - val_accuracy: 0.0938\n",
            "Epoch 111/150\n",
            "8/8 [==============================] - 94s 12s/step - loss: 0.2330 - accuracy: 0.3047 - val_loss: 0.4383 - val_accuracy: 0.0625\n",
            "Epoch 112/150\n",
            "8/8 [==============================] - 95s 12s/step - loss: 0.2340 - accuracy: 0.2422 - val_loss: 0.4228 - val_accuracy: 0.0938\n",
            "Epoch 113/150\n",
            "8/8 [==============================] - 95s 12s/step - loss: 0.2378 - accuracy: 0.2031 - val_loss: 0.3671 - val_accuracy: 0.0312\n",
            "Epoch 114/150\n",
            "8/8 [==============================] - 88s 11s/step - loss: 0.2413 - accuracy: 0.1966 - val_loss: 0.4948 - val_accuracy: 0.0312\n",
            "Epoch 115/150\n",
            "8/8 [==============================] - 95s 12s/step - loss: 0.2403 - accuracy: 0.1875 - val_loss: 0.4111 - val_accuracy: 0.0312\n",
            "Epoch 116/150\n",
            "8/8 [==============================] - 95s 12s/step - loss: 0.2358 - accuracy: 0.2188 - val_loss: 0.3092 - val_accuracy: 0.1250\n",
            "Epoch 117/150\n",
            "8/8 [==============================] - 95s 12s/step - loss: 0.2407 - accuracy: 0.2188 - val_loss: 0.3126 - val_accuracy: 0.0625\n",
            "Epoch 118/150\n",
            "8/8 [==============================] - 95s 12s/step - loss: 0.2280 - accuracy: 0.2422 - val_loss: 0.2622 - val_accuracy: 0.1250\n",
            "Epoch 119/150\n",
            "8/8 [==============================] - 94s 12s/step - loss: 0.2328 - accuracy: 0.2031 - val_loss: 0.2644 - val_accuracy: 0.1562\n",
            "Epoch 120/150\n",
            "8/8 [==============================] - 95s 12s/step - loss: 0.2281 - accuracy: 0.2734 - val_loss: 0.3038 - val_accuracy: 0.1562\n",
            "Epoch 121/150\n",
            "8/8 [==============================] - 94s 12s/step - loss: 0.2396 - accuracy: 0.1797 - val_loss: 0.3000 - val_accuracy: 0.1562\n",
            "Epoch 122/150\n",
            "8/8 [==============================] - 93s 12s/step - loss: 0.2378 - accuracy: 0.2188 - val_loss: 0.2869 - val_accuracy: 0.2500\n",
            "Epoch 123/150\n",
            "8/8 [==============================] - 94s 12s/step - loss: 0.2323 - accuracy: 0.2422 - val_loss: 0.3119 - val_accuracy: 0.1250\n",
            "Epoch 124/150\n",
            "8/8 [==============================] - 94s 12s/step - loss: 0.2381 - accuracy: 0.2422 - val_loss: 0.2654 - val_accuracy: 0.1875\n",
            "Epoch 125/150\n",
            "8/8 [==============================] - 94s 12s/step - loss: 0.2324 - accuracy: 0.2109 - val_loss: 0.2347 - val_accuracy: 0.2812\n",
            "Epoch 126/150\n",
            "8/8 [==============================] - 95s 12s/step - loss: 0.2323 - accuracy: 0.2422 - val_loss: 0.2925 - val_accuracy: 0.1875\n",
            "Epoch 127/150\n",
            "8/8 [==============================] - 95s 12s/step - loss: 0.2289 - accuracy: 0.2344 - val_loss: 0.3048 - val_accuracy: 0.0625\n",
            "Epoch 128/150\n",
            "8/8 [==============================] - 95s 12s/step - loss: 0.2227 - accuracy: 0.2969 - val_loss: 0.3477 - val_accuracy: 0.1562\n",
            "Epoch 129/150\n",
            "8/8 [==============================] - 97s 12s/step - loss: 0.2285 - accuracy: 0.2422 - val_loss: 0.2791 - val_accuracy: 0.1562\n",
            "Epoch 130/150\n",
            "8/8 [==============================] - 96s 12s/step - loss: 0.2395 - accuracy: 0.2344 - val_loss: 0.2527 - val_accuracy: 0.1250\n",
            "Epoch 131/150\n",
            "8/8 [==============================] - 97s 12s/step - loss: 0.2345 - accuracy: 0.2344 - val_loss: 0.2730 - val_accuracy: 0.0312\n",
            "Epoch 132/150\n",
            "8/8 [==============================] - 97s 12s/step - loss: 0.2308 - accuracy: 0.1641 - val_loss: 0.2567 - val_accuracy: 0.1562\n",
            "Epoch 133/150\n",
            "8/8 [==============================] - 97s 12s/step - loss: 0.2441 - accuracy: 0.2422 - val_loss: 0.2871 - val_accuracy: 0.1250\n",
            "Epoch 134/150\n",
            "6/8 [=====================>........] - ETA: 22s - loss: 0.2333 - accuracy: 0.1771"
          ]
        },
        {
          "output_type": "error",
          "ename": "KeyboardInterrupt",
          "evalue": "ignored",
          "traceback": [
            "\u001b[0;31m---------------------------------------------------------------------------\u001b[0m",
            "\u001b[0;31mKeyboardInterrupt\u001b[0m                         Traceback (most recent call last)",
            "\u001b[0;32m<ipython-input-30-2a7568864ef8>\u001b[0m in \u001b[0;36m<module>\u001b[0;34m()\u001b[0m\n\u001b[1;32m      4\u001b[0m     \u001b[0mepochs\u001b[0m \u001b[0;34m=\u001b[0m \u001b[0;36m150\u001b[0m\u001b[0;34m,\u001b[0m\u001b[0;34m\u001b[0m\u001b[0;34m\u001b[0m\u001b[0m\n\u001b[1;32m      5\u001b[0m     \u001b[0mvalidation_data\u001b[0m \u001b[0;34m=\u001b[0m \u001b[0mvalid_generator\u001b[0m\u001b[0;34m,\u001b[0m\u001b[0;34m\u001b[0m\u001b[0;34m\u001b[0m\u001b[0m\n\u001b[0;32m----> 6\u001b[0;31m     \u001b[0mvalidation_steps\u001b[0m \u001b[0;34m=\u001b[0m \u001b[0;36m2\u001b[0m\u001b[0;34m\u001b[0m\u001b[0;34m\u001b[0m\u001b[0m\n\u001b[0m\u001b[1;32m      7\u001b[0m )\n",
            "\u001b[0;32m/usr/local/lib/python3.7/dist-packages/keras/engine/training.py\u001b[0m in \u001b[0;36mfit_generator\u001b[0;34m(self, generator, steps_per_epoch, epochs, verbose, callbacks, validation_data, validation_steps, validation_freq, class_weight, max_queue_size, workers, use_multiprocessing, shuffle, initial_epoch)\u001b[0m\n\u001b[1;32m   2028\u001b[0m         \u001b[0muse_multiprocessing\u001b[0m\u001b[0;34m=\u001b[0m\u001b[0muse_multiprocessing\u001b[0m\u001b[0;34m,\u001b[0m\u001b[0;34m\u001b[0m\u001b[0;34m\u001b[0m\u001b[0m\n\u001b[1;32m   2029\u001b[0m         \u001b[0mshuffle\u001b[0m\u001b[0;34m=\u001b[0m\u001b[0mshuffle\u001b[0m\u001b[0;34m,\u001b[0m\u001b[0;34m\u001b[0m\u001b[0;34m\u001b[0m\u001b[0m\n\u001b[0;32m-> 2030\u001b[0;31m         initial_epoch=initial_epoch)\n\u001b[0m\u001b[1;32m   2031\u001b[0m \u001b[0;34m\u001b[0m\u001b[0m\n\u001b[1;32m   2032\u001b[0m   \u001b[0;34m@\u001b[0m\u001b[0mdoc_controls\u001b[0m\u001b[0;34m.\u001b[0m\u001b[0mdo_not_generate_docs\u001b[0m\u001b[0;34m\u001b[0m\u001b[0;34m\u001b[0m\u001b[0m\n",
            "\u001b[0;32m/usr/local/lib/python3.7/dist-packages/keras/utils/traceback_utils.py\u001b[0m in \u001b[0;36merror_handler\u001b[0;34m(*args, **kwargs)\u001b[0m\n\u001b[1;32m     62\u001b[0m     \u001b[0mfiltered_tb\u001b[0m \u001b[0;34m=\u001b[0m \u001b[0;32mNone\u001b[0m\u001b[0;34m\u001b[0m\u001b[0;34m\u001b[0m\u001b[0m\n\u001b[1;32m     63\u001b[0m     \u001b[0;32mtry\u001b[0m\u001b[0;34m:\u001b[0m\u001b[0;34m\u001b[0m\u001b[0;34m\u001b[0m\u001b[0m\n\u001b[0;32m---> 64\u001b[0;31m       \u001b[0;32mreturn\u001b[0m \u001b[0mfn\u001b[0m\u001b[0;34m(\u001b[0m\u001b[0;34m*\u001b[0m\u001b[0margs\u001b[0m\u001b[0;34m,\u001b[0m \u001b[0;34m**\u001b[0m\u001b[0mkwargs\u001b[0m\u001b[0;34m)\u001b[0m\u001b[0;34m\u001b[0m\u001b[0;34m\u001b[0m\u001b[0m\n\u001b[0m\u001b[1;32m     65\u001b[0m     \u001b[0;32mexcept\u001b[0m \u001b[0mException\u001b[0m \u001b[0;32mas\u001b[0m \u001b[0me\u001b[0m\u001b[0;34m:\u001b[0m  \u001b[0;31m# pylint: disable=broad-except\u001b[0m\u001b[0;34m\u001b[0m\u001b[0;34m\u001b[0m\u001b[0m\n\u001b[1;32m     66\u001b[0m       \u001b[0mfiltered_tb\u001b[0m \u001b[0;34m=\u001b[0m \u001b[0m_process_traceback_frames\u001b[0m\u001b[0;34m(\u001b[0m\u001b[0me\u001b[0m\u001b[0;34m.\u001b[0m\u001b[0m__traceback__\u001b[0m\u001b[0;34m)\u001b[0m\u001b[0;34m\u001b[0m\u001b[0;34m\u001b[0m\u001b[0m\n",
            "\u001b[0;32m/usr/local/lib/python3.7/dist-packages/keras/engine/training.py\u001b[0m in \u001b[0;36mfit\u001b[0;34m(self, x, y, batch_size, epochs, verbose, callbacks, validation_split, validation_data, shuffle, class_weight, sample_weight, initial_epoch, steps_per_epoch, validation_steps, validation_batch_size, validation_freq, max_queue_size, workers, use_multiprocessing)\u001b[0m\n\u001b[1;32m   1214\u001b[0m                 _r=1):\n\u001b[1;32m   1215\u001b[0m               \u001b[0mcallbacks\u001b[0m\u001b[0;34m.\u001b[0m\u001b[0mon_train_batch_begin\u001b[0m\u001b[0;34m(\u001b[0m\u001b[0mstep\u001b[0m\u001b[0;34m)\u001b[0m\u001b[0;34m\u001b[0m\u001b[0;34m\u001b[0m\u001b[0m\n\u001b[0;32m-> 1216\u001b[0;31m               \u001b[0mtmp_logs\u001b[0m \u001b[0;34m=\u001b[0m \u001b[0mself\u001b[0m\u001b[0;34m.\u001b[0m\u001b[0mtrain_function\u001b[0m\u001b[0;34m(\u001b[0m\u001b[0miterator\u001b[0m\u001b[0;34m)\u001b[0m\u001b[0;34m\u001b[0m\u001b[0;34m\u001b[0m\u001b[0m\n\u001b[0m\u001b[1;32m   1217\u001b[0m               \u001b[0;32mif\u001b[0m \u001b[0mdata_handler\u001b[0m\u001b[0;34m.\u001b[0m\u001b[0mshould_sync\u001b[0m\u001b[0;34m:\u001b[0m\u001b[0;34m\u001b[0m\u001b[0;34m\u001b[0m\u001b[0m\n\u001b[1;32m   1218\u001b[0m                 \u001b[0mcontext\u001b[0m\u001b[0;34m.\u001b[0m\u001b[0masync_wait\u001b[0m\u001b[0;34m(\u001b[0m\u001b[0;34m)\u001b[0m\u001b[0;34m\u001b[0m\u001b[0;34m\u001b[0m\u001b[0m\n",
            "\u001b[0;32m/usr/local/lib/python3.7/dist-packages/tensorflow/python/util/traceback_utils.py\u001b[0m in \u001b[0;36merror_handler\u001b[0;34m(*args, **kwargs)\u001b[0m\n\u001b[1;32m    148\u001b[0m     \u001b[0mfiltered_tb\u001b[0m \u001b[0;34m=\u001b[0m \u001b[0;32mNone\u001b[0m\u001b[0;34m\u001b[0m\u001b[0;34m\u001b[0m\u001b[0m\n\u001b[1;32m    149\u001b[0m     \u001b[0;32mtry\u001b[0m\u001b[0;34m:\u001b[0m\u001b[0;34m\u001b[0m\u001b[0;34m\u001b[0m\u001b[0m\n\u001b[0;32m--> 150\u001b[0;31m       \u001b[0;32mreturn\u001b[0m \u001b[0mfn\u001b[0m\u001b[0;34m(\u001b[0m\u001b[0;34m*\u001b[0m\u001b[0margs\u001b[0m\u001b[0;34m,\u001b[0m \u001b[0;34m**\u001b[0m\u001b[0mkwargs\u001b[0m\u001b[0;34m)\u001b[0m\u001b[0;34m\u001b[0m\u001b[0;34m\u001b[0m\u001b[0m\n\u001b[0m\u001b[1;32m    151\u001b[0m     \u001b[0;32mexcept\u001b[0m \u001b[0mException\u001b[0m \u001b[0;32mas\u001b[0m \u001b[0me\u001b[0m\u001b[0;34m:\u001b[0m\u001b[0;34m\u001b[0m\u001b[0;34m\u001b[0m\u001b[0m\n\u001b[1;32m    152\u001b[0m       \u001b[0mfiltered_tb\u001b[0m \u001b[0;34m=\u001b[0m \u001b[0m_process_traceback_frames\u001b[0m\u001b[0;34m(\u001b[0m\u001b[0me\u001b[0m\u001b[0;34m.\u001b[0m\u001b[0m__traceback__\u001b[0m\u001b[0;34m)\u001b[0m\u001b[0;34m\u001b[0m\u001b[0;34m\u001b[0m\u001b[0m\n",
            "\u001b[0;32m/usr/local/lib/python3.7/dist-packages/tensorflow/python/eager/def_function.py\u001b[0m in \u001b[0;36m__call__\u001b[0;34m(self, *args, **kwds)\u001b[0m\n\u001b[1;32m    908\u001b[0m \u001b[0;34m\u001b[0m\u001b[0m\n\u001b[1;32m    909\u001b[0m       \u001b[0;32mwith\u001b[0m \u001b[0mOptionalXlaContext\u001b[0m\u001b[0;34m(\u001b[0m\u001b[0mself\u001b[0m\u001b[0;34m.\u001b[0m\u001b[0m_jit_compile\u001b[0m\u001b[0;34m)\u001b[0m\u001b[0;34m:\u001b[0m\u001b[0;34m\u001b[0m\u001b[0;34m\u001b[0m\u001b[0m\n\u001b[0;32m--> 910\u001b[0;31m         \u001b[0mresult\u001b[0m \u001b[0;34m=\u001b[0m \u001b[0mself\u001b[0m\u001b[0;34m.\u001b[0m\u001b[0m_call\u001b[0m\u001b[0;34m(\u001b[0m\u001b[0;34m*\u001b[0m\u001b[0margs\u001b[0m\u001b[0;34m,\u001b[0m \u001b[0;34m**\u001b[0m\u001b[0mkwds\u001b[0m\u001b[0;34m)\u001b[0m\u001b[0;34m\u001b[0m\u001b[0;34m\u001b[0m\u001b[0m\n\u001b[0m\u001b[1;32m    911\u001b[0m \u001b[0;34m\u001b[0m\u001b[0m\n\u001b[1;32m    912\u001b[0m       \u001b[0mnew_tracing_count\u001b[0m \u001b[0;34m=\u001b[0m \u001b[0mself\u001b[0m\u001b[0;34m.\u001b[0m\u001b[0mexperimental_get_tracing_count\u001b[0m\u001b[0;34m(\u001b[0m\u001b[0;34m)\u001b[0m\u001b[0;34m\u001b[0m\u001b[0;34m\u001b[0m\u001b[0m\n",
            "\u001b[0;32m/usr/local/lib/python3.7/dist-packages/tensorflow/python/eager/def_function.py\u001b[0m in \u001b[0;36m_call\u001b[0;34m(self, *args, **kwds)\u001b[0m\n\u001b[1;32m    940\u001b[0m       \u001b[0;31m# In this case we have created variables on the first call, so we run the\u001b[0m\u001b[0;34m\u001b[0m\u001b[0;34m\u001b[0m\u001b[0;34m\u001b[0m\u001b[0m\n\u001b[1;32m    941\u001b[0m       \u001b[0;31m# defunned version which is guaranteed to never create variables.\u001b[0m\u001b[0;34m\u001b[0m\u001b[0;34m\u001b[0m\u001b[0;34m\u001b[0m\u001b[0m\n\u001b[0;32m--> 942\u001b[0;31m       \u001b[0;32mreturn\u001b[0m \u001b[0mself\u001b[0m\u001b[0;34m.\u001b[0m\u001b[0m_stateless_fn\u001b[0m\u001b[0;34m(\u001b[0m\u001b[0;34m*\u001b[0m\u001b[0margs\u001b[0m\u001b[0;34m,\u001b[0m \u001b[0;34m**\u001b[0m\u001b[0mkwds\u001b[0m\u001b[0;34m)\u001b[0m  \u001b[0;31m# pylint: disable=not-callable\u001b[0m\u001b[0;34m\u001b[0m\u001b[0;34m\u001b[0m\u001b[0m\n\u001b[0m\u001b[1;32m    943\u001b[0m     \u001b[0;32melif\u001b[0m \u001b[0mself\u001b[0m\u001b[0;34m.\u001b[0m\u001b[0m_stateful_fn\u001b[0m \u001b[0;32mis\u001b[0m \u001b[0;32mnot\u001b[0m \u001b[0;32mNone\u001b[0m\u001b[0;34m:\u001b[0m\u001b[0;34m\u001b[0m\u001b[0;34m\u001b[0m\u001b[0m\n\u001b[1;32m    944\u001b[0m       \u001b[0;31m# Release the lock early so that multiple threads can perform the call\u001b[0m\u001b[0;34m\u001b[0m\u001b[0;34m\u001b[0m\u001b[0;34m\u001b[0m\u001b[0m\n",
            "\u001b[0;32m/usr/local/lib/python3.7/dist-packages/tensorflow/python/eager/function.py\u001b[0m in \u001b[0;36m__call__\u001b[0;34m(self, *args, **kwargs)\u001b[0m\n\u001b[1;32m   3129\u001b[0m        filtered_flat_args) = self._maybe_define_function(args, kwargs)\n\u001b[1;32m   3130\u001b[0m     return graph_function._call_flat(\n\u001b[0;32m-> 3131\u001b[0;31m         filtered_flat_args, captured_inputs=graph_function.captured_inputs)  # pylint: disable=protected-access\n\u001b[0m\u001b[1;32m   3132\u001b[0m \u001b[0;34m\u001b[0m\u001b[0m\n\u001b[1;32m   3133\u001b[0m   \u001b[0;34m@\u001b[0m\u001b[0mproperty\u001b[0m\u001b[0;34m\u001b[0m\u001b[0;34m\u001b[0m\u001b[0m\n",
            "\u001b[0;32m/usr/local/lib/python3.7/dist-packages/tensorflow/python/eager/function.py\u001b[0m in \u001b[0;36m_call_flat\u001b[0;34m(self, args, captured_inputs, cancellation_manager)\u001b[0m\n\u001b[1;32m   1958\u001b[0m       \u001b[0;31m# No tape is watching; skip to running the function.\u001b[0m\u001b[0;34m\u001b[0m\u001b[0;34m\u001b[0m\u001b[0;34m\u001b[0m\u001b[0m\n\u001b[1;32m   1959\u001b[0m       return self._build_call_outputs(self._inference_function.call(\n\u001b[0;32m-> 1960\u001b[0;31m           ctx, args, cancellation_manager=cancellation_manager))\n\u001b[0m\u001b[1;32m   1961\u001b[0m     forward_backward = self._select_forward_and_backward_functions(\n\u001b[1;32m   1962\u001b[0m         \u001b[0margs\u001b[0m\u001b[0;34m,\u001b[0m\u001b[0;34m\u001b[0m\u001b[0;34m\u001b[0m\u001b[0m\n",
            "\u001b[0;32m/usr/local/lib/python3.7/dist-packages/tensorflow/python/eager/function.py\u001b[0m in \u001b[0;36mcall\u001b[0;34m(self, ctx, args, cancellation_manager)\u001b[0m\n\u001b[1;32m    601\u001b[0m               \u001b[0minputs\u001b[0m\u001b[0;34m=\u001b[0m\u001b[0margs\u001b[0m\u001b[0;34m,\u001b[0m\u001b[0;34m\u001b[0m\u001b[0;34m\u001b[0m\u001b[0m\n\u001b[1;32m    602\u001b[0m               \u001b[0mattrs\u001b[0m\u001b[0;34m=\u001b[0m\u001b[0mattrs\u001b[0m\u001b[0;34m,\u001b[0m\u001b[0;34m\u001b[0m\u001b[0;34m\u001b[0m\u001b[0m\n\u001b[0;32m--> 603\u001b[0;31m               ctx=ctx)\n\u001b[0m\u001b[1;32m    604\u001b[0m         \u001b[0;32melse\u001b[0m\u001b[0;34m:\u001b[0m\u001b[0;34m\u001b[0m\u001b[0;34m\u001b[0m\u001b[0m\n\u001b[1;32m    605\u001b[0m           outputs = execute.execute_with_cancellation(\n",
            "\u001b[0;32m/usr/local/lib/python3.7/dist-packages/tensorflow/python/eager/execute.py\u001b[0m in \u001b[0;36mquick_execute\u001b[0;34m(op_name, num_outputs, inputs, attrs, ctx, name)\u001b[0m\n\u001b[1;32m     57\u001b[0m     \u001b[0mctx\u001b[0m\u001b[0;34m.\u001b[0m\u001b[0mensure_initialized\u001b[0m\u001b[0;34m(\u001b[0m\u001b[0;34m)\u001b[0m\u001b[0;34m\u001b[0m\u001b[0;34m\u001b[0m\u001b[0m\n\u001b[1;32m     58\u001b[0m     tensors = pywrap_tfe.TFE_Py_Execute(ctx._handle, device_name, op_name,\n\u001b[0;32m---> 59\u001b[0;31m                                         inputs, attrs, num_outputs)\n\u001b[0m\u001b[1;32m     60\u001b[0m   \u001b[0;32mexcept\u001b[0m \u001b[0mcore\u001b[0m\u001b[0;34m.\u001b[0m\u001b[0m_NotOkStatusException\u001b[0m \u001b[0;32mas\u001b[0m \u001b[0me\u001b[0m\u001b[0;34m:\u001b[0m\u001b[0;34m\u001b[0m\u001b[0;34m\u001b[0m\u001b[0m\n\u001b[1;32m     61\u001b[0m     \u001b[0;32mif\u001b[0m \u001b[0mname\u001b[0m \u001b[0;32mis\u001b[0m \u001b[0;32mnot\u001b[0m \u001b[0;32mNone\u001b[0m\u001b[0;34m:\u001b[0m\u001b[0;34m\u001b[0m\u001b[0;34m\u001b[0m\u001b[0m\n",
            "\u001b[0;31mKeyboardInterrupt\u001b[0m: "
          ]
        }
      ]
    },
    {
      "cell_type": "code",
      "metadata": {
        "id": "FoReESFZyvse"
      },
      "source": [
        "model.save('model_adv.h5')"
      ],
      "execution_count": null,
      "outputs": []
    },
    {
      "cell_type": "code",
      "metadata": {
        "id": "rRfa-4ED108m"
      },
      "source": [
        "# model.evaluate_generator(train_generator)"
      ],
      "execution_count": null,
      "outputs": []
    },
    {
      "cell_type": "code",
      "metadata": {
        "id": "NB40ooJT11we"
      },
      "source": [
        "# model.evaluate_generator(valid_generator)"
      ],
      "execution_count": null,
      "outputs": []
    },
    {
      "cell_type": "code",
      "metadata": {
        "id": "QzuPJSNd11t-"
      },
      "source": [
        "model = load_model('model_adv.h5')"
      ],
      "execution_count": null,
      "outputs": []
    },
    {
      "cell_type": "code",
      "metadata": {
        "id": "2vzbbHud2V82",
        "colab": {
          "base_uri": "https://localhost:8080/"
        },
        "outputId": "e4ebe485-6fd9-4043-b665-ac26143dd1c6"
      },
      "source": [
        "train_generator.class_indices"
      ],
      "execution_count": null,
      "outputs": [
        {
          "output_type": "execute_result",
          "data": {
            "text/plain": [
              "{'Atelectasis': 0,\n",
              " 'Cardiomegaly': 1,\n",
              " 'Consolidation': 2,\n",
              " 'Edema': 3,\n",
              " 'Effusion': 4,\n",
              " 'Emphysema': 5,\n",
              " 'Fibrosis': 6,\n",
              " 'Hernia': 7,\n",
              " 'Infiltration': 8,\n",
              " 'Mass': 9,\n",
              " 'Nodule': 10,\n",
              " 'Pleural_Thickening': 11,\n",
              " 'Pneumonia': 12,\n",
              " 'Pneumothorax': 13}"
            ]
          },
          "metadata": {},
          "execution_count": 36
        }
      ]
    },
    {
      "cell_type": "code",
      "metadata": {
        "id": "o27YUCe22V6G"
      },
      "source": [
        "y_actual = []\n",
        "y_test = []"
      ],
      "execution_count": null,
      "outputs": []
    },
    {
      "cell_type": "code",
      "metadata": {
        "id": "YsqZ404E20ZF"
      },
      "source": [
        "for i in os.listdir('/content/drive/MyDrive/TRAIN_TEST_VAILD/VALID/Atelectasis/'):\n",
        "  img = image.load_img( '/content/drive/MyDrive/TRAIN_TEST_VAILD/VALID/Atelectasis/'+i, target_size = (224,224))\n",
        "  img = image.img_to_array(img)\n",
        "  img = np.expand_dims(img, axis = 0)\n",
        "  p = model.predict(img)\n",
        "  y_test.append(np.argmax(p[0],axis=0))\n",
        "  y_actual.append(0)\n",
        "  # # maxprob = max(p[0])\n",
        "  # # b = list(np.where(p==maxprob))\n",
        "  # # print(int(b[0]))\n",
        "  # # y_test.append(int(b[0]))\n",
        "  # # np.where(arr == 15)\n",
        "  # y_actual.append(0)\n",
        "  # # print(maxprob)\n",
        "  # # print(y_test)"
      ],
      "execution_count": null,
      "outputs": []
    },
    {
      "cell_type": "code",
      "source": [
        "p"
      ],
      "metadata": {
        "id": "6oEpOpNUnx_J",
        "colab": {
          "base_uri": "https://localhost:8080/"
        },
        "outputId": "3e8b9a6f-a45d-4d54-fcef-c3b2a289e512"
      },
      "execution_count": null,
      "outputs": [
        {
          "output_type": "execute_result",
          "data": {
            "text/plain": [
              "array([[0.0000000e+00, 0.0000000e+00, 1.0000000e+00, 0.0000000e+00,\n",
              "        0.0000000e+00, 0.0000000e+00, 1.1878112e-21, 0.0000000e+00,\n",
              "        0.0000000e+00, 1.0000000e+00, 1.0000000e+00, 0.0000000e+00,\n",
              "        8.5408898e-26, 0.0000000e+00]], dtype=float32)"
            ]
          },
          "metadata": {},
          "execution_count": 42
        }
      ]
    },
    {
      "cell_type": "code",
      "source": [
        "p.shape"
      ],
      "metadata": {
        "id": "rKH2i9CzWRlo",
        "colab": {
          "base_uri": "https://localhost:8080/"
        },
        "outputId": "0135e503-55ff-4074-f85c-2176718621f4"
      },
      "execution_count": null,
      "outputs": [
        {
          "output_type": "execute_result",
          "data": {
            "text/plain": [
              "(1, 14)"
            ]
          },
          "metadata": {},
          "execution_count": 43
        }
      ]
    },
    {
      "cell_type": "code",
      "metadata": {
        "id": "pu3Vvexe4x-n"
      },
      "source": [
        "for i in os.listdir('/content/drive/MyDrive/TRAIN_TEST_VAILD/VALID/Cardiomegaly/'):\n",
        "  img = image.load_img( '/content/drive/MyDrive/TRAIN_TEST_VAILD/VALID/Cardiomegaly/'+i, target_size = (224,224))\n",
        "  img = image.img_to_array(img)\n",
        "  img = np.expand_dims(img, axis = 0)\n",
        "  p = model.predict(img)\n",
        "  y_test.append(np.argmax(p[0],axis=0))\n",
        "  # y_test.append(p[0,1])\n",
        "  y_actual.append(1)\n",
        "  # # y_test.append(p[0,1])\n",
        "  # maxprob = max(p[0])\n",
        "  # b = list(np.where(p==maxprob))\n",
        "  # print(int(b[0]))\n",
        "  # y_test.append(int(b[0]))\n",
        "  # y_actual.append(1)\n",
        "  # # print(f\"X={int(y_test[i])}, Predicted={int(y_actual[i])}\")"
      ],
      "execution_count": null,
      "outputs": []
    },
    {
      "cell_type": "code",
      "metadata": {
        "id": "tcaUtuzZYeSB"
      },
      "source": [
        "for i in os.listdir('/content/drive/MyDrive/TRAIN_TEST_VAILD/VALID/Consolidation/'):\n",
        "  img = image.load_img( '/content/drive/MyDrive/TRAIN_TEST_VAILD/VALID/Consolidation/'+i, target_size = (224,224))\n",
        "  img = image.img_to_array(img)\n",
        "  img = np.expand_dims(img, axis = 0)\n",
        "  p = model.predict(img)\n",
        "  y_test.append(np.argmax(p[0],axis=0))\n",
        "  y_actual.append(2)\n",
        "  # # y_test.append(p[0,2])\n",
        "  # maxprob = max(p[0])\n",
        "  # b = list(np.where(p==maxprob))\n",
        "  # print(int(b[0]))\n",
        "  # y_test.append(int(b[0]))\n",
        "  # y_actual.append(2)"
      ],
      "execution_count": null,
      "outputs": []
    },
    {
      "cell_type": "code",
      "metadata": {
        "id": "LKN-x7qbYePI"
      },
      "source": [
        "for i in os.listdir('/content/drive/MyDrive/TRAIN_TEST_VAILD/VALID/Edema/'):\n",
        "  img = image.load_img( '/content/drive/MyDrive/TRAIN_TEST_VAILD/VALID/Edema/'+i, target_size = (224,224))\n",
        "  img = image.img_to_array(img)\n",
        "  img = np.expand_dims(img, axis = 0)\n",
        "  p = model.predict(img)\n",
        "  y_test.append(np.argmax(p[0],axis=0))\n",
        "  y_actual.append(3)\n",
        "  # # y_test.append(p[0,3])\n",
        "  # maxprob = max(p[0])\n",
        "  # b = list(np.where(p==maxprob))\n",
        "  # print(int(b[0]))\n",
        "  # y_test.append(int(b[0]))\n",
        "  # y_actual.append(3)"
      ],
      "execution_count": null,
      "outputs": []
    },
    {
      "cell_type": "code",
      "source": [
        "print(y_test)"
      ],
      "metadata": {
        "id": "R74JDod_j6tG",
        "colab": {
          "base_uri": "https://localhost:8080/"
        },
        "outputId": "14549874-9c37-4586-c13f-125fa2d68c84"
      },
      "execution_count": null,
      "outputs": [
        {
          "output_type": "stream",
          "name": "stdout",
          "text": [
            "[2, 2, 2, 2, 2, 2, 2, 2, 2, 2, 2, 2, 2, 2, 2, 2, 2, 2, 2, 2, 2, 2, 2, 2, 2, 2, 2, 2, 2, 2, 2, 2, 2, 2, 2, 2, 2, 2, 2, 2, 2, 2, 2, 2, 2, 2, 2, 2, 2, 2, 2, 2, 2, 2, 2, 2, 2, 2, 2, 2]\n"
          ]
        }
      ]
    },
    {
      "cell_type": "code",
      "source": [
        "print(y_actual)"
      ],
      "metadata": {
        "id": "tULkAZtVj_Ad",
        "colab": {
          "base_uri": "https://localhost:8080/"
        },
        "outputId": "2be40f1b-6bb1-4b6b-8a3c-95ee7d146d62"
      },
      "execution_count": null,
      "outputs": [
        {
          "output_type": "stream",
          "name": "stdout",
          "text": [
            "[0, 0, 0, 0, 0, 0, 0, 0, 0, 0, 0, 0, 0, 0, 0, 1, 1, 1, 1, 1, 1, 1, 1, 1, 1, 1, 1, 1, 1, 1, 2, 2, 2, 2, 2, 2, 2, 2, 2, 2, 2, 2, 2, 2, 2, 3, 3, 3, 3, 3, 3, 3, 3, 3, 3, 3, 3, 3, 3, 3]\n"
          ]
        }
      ]
    },
    {
      "cell_type": "code",
      "source": [
        "for i in os.listdir('/content/drive/MyDrive/TRAIN_TEST_VAILD/VALID/Effusion/'):\n",
        "  img = image.load_img('/content/drive/MyDrive/TRAIN_TEST_VAILD/VALID/Effusion/'+i, target_size = (224,224))\n",
        "  img = image.img_to_array(img)\n",
        "  img = np.expand_dims(img, axis = 0)\n",
        "  p = model.predict(img)\n",
        "  \n",
        "  y_test.append(np.argmax(p[0],axis=0))\n",
        "  y_actual.append(4)"
      ],
      "metadata": {
        "id": "0uIoMjOcq6La"
      },
      "execution_count": null,
      "outputs": []
    },
    {
      "cell_type": "code",
      "source": [
        "for i in os.listdir('/content/drive/MyDrive/TRAIN_TEST_VAILD/VALID/Emphysema/'):\n",
        "  img = image.load_img( '/content/drive/MyDrive/TRAIN_TEST_VAILD/VALID/Emphysema/'+i, target_size = (224,224))\n",
        "  img = image.img_to_array(img)\n",
        "  img = np.expand_dims(img, axis = 0)\n",
        "  p = model.predict(img)\n",
        "  y_test.append(np.argmax(p[0],axis=0))\n",
        "  y_actual.append(5)"
      ],
      "metadata": {
        "id": "MZobvfppq6GA"
      },
      "execution_count": null,
      "outputs": []
    },
    {
      "cell_type": "code",
      "source": [
        "for i in os.listdir('/content/drive/MyDrive/TRAIN_TEST_VAILD/VALID/Fibrosis/'):\n",
        "  img = image.load_img( '/content/drive/MyDrive/TRAIN_TEST_VAILD/VALID/Fibrosis/'+i, target_size = (224,224))\n",
        "  img = image.img_to_array(img)\n",
        "  img = np.expand_dims(img, axis = 0)\n",
        "  p = model.predict(img)\n",
        "  y_test.append(np.argmax(p[0],axis=0))\n",
        "  y_actual.append(6)"
      ],
      "metadata": {
        "id": "JzdohM2lq5_o"
      },
      "execution_count": null,
      "outputs": []
    },
    {
      "cell_type": "code",
      "source": [
        "for i in os.listdir('/content/drive/MyDrive/TRAIN_TEST_VAILD/VALID/Hernia/'):\n",
        "  img = image.load_img( '/content/drive/MyDrive/TRAIN_TEST_VAILD/VALID/Hernia/'+i, target_size = (224,224))\n",
        "  img = image.img_to_array(img)\n",
        "  img = np.expand_dims(img, axis = 0)\n",
        "  p = model.predict(img)\n",
        "  y_test.append(np.argmax(p[0],axis=0))\n",
        "  y_actual.append(7)"
      ],
      "metadata": {
        "id": "l2WNTp01q55g"
      },
      "execution_count": null,
      "outputs": []
    },
    {
      "cell_type": "code",
      "source": [
        "for i in os.listdir('/content/drive/MyDrive/TRAIN_TEST_VAILD/VALID/Infiltration/'):\n",
        "  img = image.load_img( '/content/drive/MyDrive/TRAIN_TEST_VAILD/VALID/Infiltration/'+i, target_size = (224,224))\n",
        "  img = image.img_to_array(img)\n",
        "  img = np.expand_dims(img, axis = 0)\n",
        "  p = model.predict(img)\n",
        "  y_test.append(np.argmax(p[0],axis=0))\n",
        "  y_actual.append(8)"
      ],
      "metadata": {
        "id": "ahYfTS4rq5z5"
      },
      "execution_count": null,
      "outputs": []
    },
    {
      "cell_type": "code",
      "source": [
        "for i in os.listdir('/content/drive/MyDrive/TRAIN_TEST_VAILD/VALID/Mass/'):\n",
        "  img = image.load_img( '/content/drive/MyDrive/TRAIN_TEST_VAILD/VALID/Mass/'+i, target_size = (224,224))\n",
        "  img = image.img_to_array(img)\n",
        "  img = np.expand_dims(img, axis = 0)\n",
        "  p = model.predict(img)\n",
        "  y_test.append(np.argmax(p[0],axis=0))\n",
        "  y_actual.append(9)"
      ],
      "metadata": {
        "id": "SK4APIrlq5sw"
      },
      "execution_count": null,
      "outputs": []
    },
    {
      "cell_type": "code",
      "source": [
        "for i in os.listdir('/content/drive/MyDrive/TRAIN_TEST_VAILD/VALID/Nodule/'):\n",
        "  img = image.load_img( '/content/drive/MyDrive/TRAIN_TEST_VAILD/VALID/Nodule/'+i, target_size = (224,224))\n",
        "  img = image.img_to_array(img)\n",
        "  img = np.expand_dims(img, axis = 0)\n",
        "  p = model.predict(img)\n",
        "  y_test.append(np.argmax(p[0],axis=0))\n",
        "  y_actual.append(10)"
      ],
      "metadata": {
        "id": "gZsXkJeBq5hw"
      },
      "execution_count": null,
      "outputs": []
    },
    {
      "cell_type": "code",
      "source": [
        "for i in os.listdir('/content/drive/MyDrive/TRAIN_TEST_VAILD/VALID/Pleural_Thickening/'):\n",
        "  img = image.load_img( '/content/drive/MyDrive/TRAIN_TEST_VAILD/VALID/Pleural_Thickening/'+i, target_size = (224,224))\n",
        "  img = image.img_to_array(img)\n",
        "  img = np.expand_dims(img, axis = 0)\n",
        "  p = model.predict(img)\n",
        "  y_test.append(np.argmax(p[0],axis=0))\n",
        "  y_actual.append(11)"
      ],
      "metadata": {
        "id": "0BxCy_QSq5aQ"
      },
      "execution_count": null,
      "outputs": []
    },
    {
      "cell_type": "code",
      "source": [
        "for i in os.listdir('/content/drive/MyDrive/TRAIN_TEST_VAILD/VALID/Pneumonia/'):\n",
        "  img = image.load_img( '/content/drive/MyDrive/TRAIN_TEST_VAILD/VALID/Pneumonia/'+i, target_size = (224,224))\n",
        "  img = image.img_to_array(img)\n",
        "  img = np.expand_dims(img, axis = 0)\n",
        "  p = model.predict(img)\n",
        "  y_test.append(np.argmax(p[0],axis=0))\n",
        "  y_actual.append(12)"
      ],
      "metadata": {
        "id": "Flbo0buFrwaP"
      },
      "execution_count": null,
      "outputs": []
    },
    {
      "cell_type": "code",
      "source": [
        "for i in os.listdir('/content/drive/MyDrive/TRAIN_TEST_VAILD/VALID/Pneumothorax/'):\n",
        "  img = image.load_img( '/content/drive/MyDrive/TRAIN_TEST_VAILD/VALID/Pneumothorax/'+i, target_size = (224,224))\n",
        "  img = image.img_to_array(img)\n",
        "  img = np.expand_dims(img, axis = 0)\n",
        "  p = model.predict(img)\n",
        "  y_test.append(np.argmax(p[0],axis=0))\n",
        "  y_actual.append(13)"
      ],
      "metadata": {
        "id": "0ez6K7RfrwTH"
      },
      "execution_count": null,
      "outputs": []
    },
    {
      "cell_type": "code",
      "metadata": {
        "id": "ixyG1tLV5S2C"
      },
      "source": [
        "y_actual = np.array(y_actual)\n",
        "y_test = np.array(y_test)"
      ],
      "execution_count": null,
      "outputs": []
    },
    {
      "cell_type": "code",
      "source": [
        "y_test"
      ],
      "metadata": {
        "id": "TLKb8FE_u-E3",
        "colab": {
          "base_uri": "https://localhost:8080/"
        },
        "outputId": "28d3440c-70e6-4741-c30e-7b27c0ef43c2"
      },
      "execution_count": null,
      "outputs": [
        {
          "output_type": "execute_result",
          "data": {
            "text/plain": [
              "array([2, 2, 2, 2, 2, 2, 2, 2, 2, 2, 2, 2, 2, 2, 2, 2, 2, 2, 2, 2, 2, 2,\n",
              "       2, 2, 2, 2, 2, 2, 2, 2, 2, 2, 2, 2, 2, 2, 2, 2, 2, 2, 2, 2, 2, 2,\n",
              "       2, 2, 2, 2, 2, 2, 2, 2, 2, 2, 2, 2, 2, 2, 2, 2, 2, 2, 2, 2, 2, 2,\n",
              "       2, 2, 2, 2, 2, 2, 2, 2, 2, 2, 2, 2, 2, 2, 2, 2, 2, 2, 2, 2, 2, 2,\n",
              "       2, 2, 2, 2, 2, 2, 2, 2, 2, 2, 2, 2, 2, 2, 2, 2, 2, 2, 2, 2, 2, 2,\n",
              "       2, 2, 2, 2, 2, 2, 2, 2, 2, 2, 2, 2, 2, 2, 2, 2, 2, 2, 2, 2, 2, 2,\n",
              "       2, 2, 2, 2, 2, 2, 2, 2, 2, 2, 2, 2, 2, 2, 2, 2, 2, 2, 2, 2, 2, 2,\n",
              "       2, 2, 2, 2, 2, 2, 2, 2, 2, 2, 2, 2, 2, 2, 2, 2, 2, 2, 2, 2, 2, 2,\n",
              "       2, 2, 2, 2, 2, 2, 2, 2, 2, 2, 2, 2, 2, 2, 2, 2, 2, 2, 2, 2, 2, 2,\n",
              "       2, 2, 2, 2, 2, 2, 2, 2, 2, 2, 2, 2])"
            ]
          },
          "metadata": {},
          "execution_count": 65
        }
      ]
    },
    {
      "cell_type": "code",
      "source": [
        "y_actual"
      ],
      "metadata": {
        "id": "oNBl-uFbu_x3",
        "colab": {
          "base_uri": "https://localhost:8080/"
        },
        "outputId": "5103e288-c6bb-4949-c61b-1b5ad23ba588"
      },
      "execution_count": null,
      "outputs": [
        {
          "output_type": "execute_result",
          "data": {
            "text/plain": [
              "array([ 0,  0,  0,  0,  0,  0,  0,  0,  0,  0,  0,  0,  0,  0,  0,  1,  1,\n",
              "        1,  1,  1,  1,  1,  1,  1,  1,  1,  1,  1,  1,  1,  2,  2,  2,  2,\n",
              "        2,  2,  2,  2,  2,  2,  2,  2,  2,  2,  2,  3,  3,  3,  3,  3,  3,\n",
              "        3,  3,  3,  3,  3,  3,  3,  3,  3,  4,  4,  4,  4,  4,  4,  4,  4,\n",
              "        4,  4,  4,  4,  4,  4,  4,  5,  5,  5,  5,  5,  5,  5,  5,  5,  5,\n",
              "        5,  5,  5,  5,  5,  6,  6,  6,  6,  6,  6,  6,  6,  6,  6,  6,  6,\n",
              "        6,  6,  6,  7,  7,  7,  7,  7,  7,  7,  7,  7,  7,  7,  7,  7,  7,\n",
              "        7,  8,  8,  8,  8,  8,  8,  8,  8,  8,  8,  8,  8,  8,  8,  8,  9,\n",
              "        9,  9,  9,  9,  9,  9,  9,  9,  9,  9,  9,  9,  9,  9, 10, 10, 10,\n",
              "       10, 10, 10, 10, 10, 10, 10, 10, 10, 10, 10, 10, 11, 11, 11, 11, 11,\n",
              "       11, 11, 11, 11, 11, 11, 11, 11, 11, 11, 12, 12, 12, 12, 12, 12, 12,\n",
              "       12, 12, 12, 12, 12, 12, 12, 12, 13, 13, 13, 13, 13, 13, 13, 13, 13,\n",
              "       13, 13, 13, 13, 13, 13])"
            ]
          },
          "metadata": {},
          "execution_count": 66
        }
      ]
    },
    {
      "cell_type": "code",
      "metadata": {
        "id": "9xLkpXZNX6eZ",
        "colab": {
          "base_uri": "https://localhost:8080/"
        },
        "outputId": "48841535-e43b-42fd-f662-4fbd55bb0c6b"
      },
      "source": [
        "len(y_test)"
      ],
      "execution_count": null,
      "outputs": [
        {
          "output_type": "execute_result",
          "data": {
            "text/plain": [
              "210"
            ]
          },
          "metadata": {},
          "execution_count": 67
        }
      ]
    },
    {
      "cell_type": "code",
      "metadata": {
        "id": "ifCbcFba5tkE"
      },
      "source": [
        "from sklearn.metrics import confusion_matrix"
      ],
      "execution_count": null,
      "outputs": []
    },
    {
      "cell_type": "code",
      "metadata": {
        "id": "xrVzoMLs5ths",
        "colab": {
          "base_uri": "https://localhost:8080/"
        },
        "outputId": "91de58dc-a6c9-4df5-9f13-03a7c5b0bf4e"
      },
      "source": [
        "cm = confusion_matrix(y_actual,y_test)\n",
        "cm"
      ],
      "execution_count": null,
      "outputs": [
        {
          "output_type": "execute_result",
          "data": {
            "text/plain": [
              "array([[ 0,  0, 15,  0,  0,  0,  0,  0,  0,  0,  0,  0,  0,  0],\n",
              "       [ 0,  0, 15,  0,  0,  0,  0,  0,  0,  0,  0,  0,  0,  0],\n",
              "       [ 0,  0, 15,  0,  0,  0,  0,  0,  0,  0,  0,  0,  0,  0],\n",
              "       [ 0,  0, 15,  0,  0,  0,  0,  0,  0,  0,  0,  0,  0,  0],\n",
              "       [ 0,  0, 15,  0,  0,  0,  0,  0,  0,  0,  0,  0,  0,  0],\n",
              "       [ 0,  0, 15,  0,  0,  0,  0,  0,  0,  0,  0,  0,  0,  0],\n",
              "       [ 0,  0, 15,  0,  0,  0,  0,  0,  0,  0,  0,  0,  0,  0],\n",
              "       [ 0,  0, 15,  0,  0,  0,  0,  0,  0,  0,  0,  0,  0,  0],\n",
              "       [ 0,  0, 15,  0,  0,  0,  0,  0,  0,  0,  0,  0,  0,  0],\n",
              "       [ 0,  0, 15,  0,  0,  0,  0,  0,  0,  0,  0,  0,  0,  0],\n",
              "       [ 0,  0, 15,  0,  0,  0,  0,  0,  0,  0,  0,  0,  0,  0],\n",
              "       [ 0,  0, 15,  0,  0,  0,  0,  0,  0,  0,  0,  0,  0,  0],\n",
              "       [ 0,  0, 15,  0,  0,  0,  0,  0,  0,  0,  0,  0,  0,  0],\n",
              "       [ 0,  0, 15,  0,  0,  0,  0,  0,  0,  0,  0,  0,  0,  0]])"
            ]
          },
          "metadata": {},
          "execution_count": 69
        }
      ]
    },
    {
      "cell_type": "code",
      "metadata": {
        "id": "cSKA43L15te8"
      },
      "source": [
        "import seaborn as sns"
      ],
      "execution_count": null,
      "outputs": []
    },
    {
      "cell_type": "code",
      "metadata": {
        "id": "9ba6kgfF5_EW",
        "colab": {
          "base_uri": "https://localhost:8080/",
          "height": 282
        },
        "outputId": "a0915ffb-2fd3-4618-bbe4-86bd8be4755c"
      },
      "source": [
        "sns.heatmap(cm, cmap = \"plasma\", annot = True)"
      ],
      "execution_count": null,
      "outputs": [
        {
          "output_type": "execute_result",
          "data": {
            "text/plain": [
              "<matplotlib.axes._subplots.AxesSubplot at 0x7fadf2540c50>"
            ]
          },
          "metadata": {},
          "execution_count": 70
        },
        {
          "output_type": "display_data",
          "data": {
            "image/png": "[encoded data removed]",
            "text/plain": [
              "<Figure size 432x288 with 2 Axes>"
            ]
          },
          "metadata": {
            "needs_background": "light"
          }
        }
      ]
    }
  ]
}